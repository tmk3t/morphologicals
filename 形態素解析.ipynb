{
  "nbformat": 4,
  "nbformat_minor": 0,
  "metadata": {
    "colab": {
      "provenance": [],
      "collapsed_sections": [],
      "toc_visible": true,
      "authorship_tag": "ABX9TyN/OJ9pV+0qckSk8+H60FqQ",
      "include_colab_link": true
    },
    "kernelspec": {
      "name": "python3",
      "display_name": "Python 3"
    },
    "language_info": {
      "name": "python"
    }
  },
  "cells": [
    {
      "cell_type": "markdown",
      "metadata": {
        "id": "view-in-github",
        "colab_type": "text"
      },
      "source": [
        "<a href=\"https://colab.research.google.com/github/tmk3t/morphologicals/blob/main/%E5%BD%A2%E6%85%8B%E7%B4%A0%E8%A7%A3%E6%9E%90.ipynb\" target=\"_parent\"><img src=\"https://colab.research.google.com/assets/colab-badge.svg\" alt=\"Open In Colab\"/></a>"
      ]
    },
    {
      "cell_type": "code",
      "source": [
        "import mecab_pandas_sample\n",
        "import imp \n",
        "imp.reload(mecab_pandas_sample)"
      ],
      "metadata": {
        "colab": {
          "base_uri": "https://localhost:8080/"
        },
        "id": "0X0GODtz2PuV",
        "outputId": "ae2a769d-02d3-4f11-d495-e81e2e18a60b"
      },
      "execution_count": 51,
      "outputs": [
        {
          "output_type": "stream",
          "name": "stdout",
          "text": [
            "  表層形   品詞 品詞細分類1 品詞細分類2 品詞細分類3      活用型  活用形  原形    読み    発音\n",
            "0  吾輩   名詞    代名詞     一般      *        *    *  吾輩  ワガハイ  ワガハイ\n",
            "1   は   助詞    係助詞      *      *        *    *   は     ハ     ワ\n",
            "2   猫   名詞     一般      *      *        *    *   猫    ネコ    ネコ\n",
            "3   で  助動詞      *      *      *     特殊・ダ  連用形   だ     デ     デ\n",
            "4  ある  助動詞      *      *      *  五段・ラ行アル  基本形  ある    アル    アル\n"
          ]
        },
        {
          "output_type": "execute_result",
          "data": {
            "text/plain": [
              "<module 'mecab_pandas_sample' from '/content/mecab_pandas_sample.py'>"
            ]
          },
          "metadata": {},
          "execution_count": 51
        }
      ]
    },
    {
      "cell_type": "code",
      "source": [
        "import mecab_pandas_sample"
      ],
      "metadata": {
        "id": "8VRe30m25Ff5"
      },
      "execution_count": 47,
      "outputs": []
    },
    {
      "cell_type": "code",
      "source": [],
      "metadata": {
        "id": "1qzyFbi52Plx"
      },
      "execution_count": null,
      "outputs": []
    }
  ]
}